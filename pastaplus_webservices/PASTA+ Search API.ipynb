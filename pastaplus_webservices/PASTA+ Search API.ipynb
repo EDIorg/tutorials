{
 "cells": [
  {
   "cell_type": "markdown",
   "metadata": {},
   "source": [
    "## PASTA+ Search API"
   ]
  },
  {
   "cell_type": "markdown",
   "metadata": {},
   "source": [
    "### Python packages"
   ]
  },
  {
   "cell_type": "code",
   "execution_count": null,
   "metadata": {
    "collapsed": true
   },
   "outputs": [],
   "source": [
    "# 3rd-party libraries\n",
    "import requests"
   ]
  },
  {
   "cell_type": "markdown",
   "metadata": {},
   "source": [
    "### Define the base URL for the PASTA+ Search API"
   ]
  },
  {
   "cell_type": "code",
   "execution_count": null,
   "metadata": {
    "collapsed": true
   },
   "outputs": [],
   "source": [
    "base_url = 'https://pasta.lternet.edu/package/search/eml'"
   ]
  },
  {
   "cell_type": "markdown",
   "metadata": {},
   "source": [
    "### First example: Match all documents with keyword \"disturbance\" and display their IDs."
   ]
  },
  {
   "cell_type": "code",
   "execution_count": null,
   "metadata": {},
   "outputs": [],
   "source": [
    "r = requests.get(base_url + '?q=keyword:disturbance&fl=id')\n",
    "print(r.text)"
   ]
  },
  {
   "cell_type": "markdown",
   "metadata": {},
   "source": [
    "### Match anything, display all fields, limit to only one document."
   ]
  },
  {
   "cell_type": "code",
   "execution_count": null,
   "metadata": {},
   "outputs": [],
   "source": [
    "r = requests.get(base_url + '?q=*&fl=*&rows=1')\n",
    "print(r.text)"
   ]
  },
  {
   "cell_type": "markdown",
   "metadata": {},
   "source": [
    "###  Find all FCE data packages, displaying the package id, title, and DOI"
   ]
  },
  {
   "cell_type": "code",
   "execution_count": null,
   "metadata": {
    "scrolled": true
   },
   "outputs": [],
   "source": [
    "r = requests.get(base_url + '?q=scope:knb-lter-fce&fl=packageid,title,doi&rows=1000')\n",
    "print(r.text)"
   ]
  },
  {
   "cell_type": "markdown",
   "metadata": {},
   "source": [
    "###  Find all FCE data packages, displaying the package id, title, and DOI, alternative query"
   ]
  },
  {
   "cell_type": "code",
   "execution_count": null,
   "metadata": {
    "scrolled": true
   },
   "outputs": [],
   "source": [
    "r = requests.get(base_url + '?q=*&fq=scope:knb-lter-fce&fl=packageid,title,doi&rows=1000')\n",
    "print(r.text)"
   ]
  },
  {
   "cell_type": "markdown",
   "metadata": {},
   "source": [
    "### A long one! Match \"alkalinity\" and \"air temperature\", exclude ecotrends, sort on score descending and secondarily sort on packgage id ascending, use the edismax query parser, turn off debugging, display the first 20 rows"
   ]
  },
  {
   "cell_type": "code",
   "execution_count": null,
   "metadata": {},
   "outputs": [],
   "source": [
    "r = requests.get(base_url + '?q=alkalinity&q=\"air+temperature\"&fq=-scope:ecotrends&fl=packageid,title,score&sort=score,desc&sort=packageid,asc&defType=edismax&debug=false&start=0&rows=20')\n",
    "print(r.text)"
   ]
  },
  {
   "cell_type": "markdown",
   "metadata": {},
   "source": [
    "### Find \"disturbance\" but filter query on \"edi\" scope. The q parameter counts toward relevance scoring but the fq parameter does not."
   ]
  },
  {
   "cell_type": "code",
   "execution_count": null,
   "metadata": {},
   "outputs": [],
   "source": [
    "r = requests.get(base_url + '?q=disturbance&fq=scope:edi&fl=id,title')\n",
    "print(r.text)"
   ]
  },
  {
   "cell_type": "markdown",
   "metadata": {},
   "source": [
    "### Query on author"
   ]
  },
  {
   "cell_type": "code",
   "execution_count": null,
   "metadata": {},
   "outputs": [],
   "source": [
    "r = requests.get(base_url + '?q=author:duane+costa&fq=author:costa&fl=id,title,author,score')\n",
    "print(r.text)"
   ]
  },
  {
   "cell_type": "markdown",
   "metadata": {},
   "source": [
    "### Query on subject \"Primary Production\" OR subject \"plant\""
   ]
  },
  {
   "cell_type": "code",
   "execution_count": null,
   "metadata": {},
   "outputs": [],
   "source": [
    "r = requests.get(base_url + '?q=subject:(\"Primary+Production\")+OR+subject:plant&fq=-scope:ecotrends&fq=-scope:lter-landsat*&fl=id,packageid,title,author,organization,pubdate,coordinates&debug=false&start=0&rows=10&sort=score,desc&defType=edismax')\n",
    "print(r.text)"
   ]
  },
  {
   "cell_type": "markdown",
   "metadata": {},
   "source": [
    "### Temporal criteria, 1/1/1995 through 12/31/1996, begin and end dates must fall within the two-year period"
   ]
  },
  {
   "cell_type": "code",
   "execution_count": null,
   "metadata": {},
   "outputs": [],
   "source": [
    "r = requests.get(base_url + '?q=*&fl=id,title,singledate,begindate,enddate&fq=(singledate:[1995-01-01T00:00:00Z/DAY+TO+1996-12-31T00:00:00Z/DAY]+OR+(begindate:[1995-01-01T00:00:00Z/DAY+TO+1996-12-31T00:00:00Z/DAY]+AND+enddate:[1995-01-01T00:00:00Z/DAY+TO+1996-12-31T00:00:00Z/DAY]))')\n",
    "print(r.text)"
   ]
  },
  {
   "cell_type": "markdown",
   "metadata": {},
   "source": [
    "### Temporal criteria, 1/1/1995 through 12/31/1996, overlaps any part of the two-year period"
   ]
  },
  {
   "cell_type": "code",
   "execution_count": null,
   "metadata": {},
   "outputs": [],
   "source": [
    "r = requests.get(base_url + '?q=*&fl=id,title,singledate,begindate,enddate&fq=(singledate:[1995-01-01T00:00:00Z/DAY+TO+1996-12-31T00:00:00Z/DAY]+OR+(begindate:[*+TO+1996-12-31T00:00:00Z/DAY]+AND+enddate:[1995-01-01T00:00:00Z/DAY+TO+NOW]))')\n",
    "print(r.text)"
   ]
  },
  {
   "cell_type": "markdown",
   "metadata": {},
   "source": [
    "### Spatial criteria. Note the use of \"IsWithin\". (PASTA runs Solr 4.10.2. More current versions of Solr might now be using \"Within\" instead of \"IsWithin\".)"
   ]
  },
  {
   "cell_type": "code",
   "execution_count": null,
   "metadata": {},
   "outputs": [],
   "source": [
    "r = requests.get(base_url + '?q=*&fl=id,title,coordinates&fq=coordinates:\"IsWithin(-78.035+36.146+-73.640+38.333)\"&rows=3')\n",
    "print(r.text)"
   ]
  }
 ],
 "metadata": {
  "kernelspec": {
   "display_name": "Python 3",
   "language": "python",
   "name": "python3"
  },
  "language_info": {
   "codemirror_mode": {
    "name": "ipython",
    "version": 3
   },
   "file_extension": ".py",
   "mimetype": "text/x-python",
   "name": "python",
   "nbconvert_exporter": "python",
   "pygments_lexer": "ipython3",
   "version": "3.6.1"
  }
 },
 "nbformat": 4,
 "nbformat_minor": 2
}
