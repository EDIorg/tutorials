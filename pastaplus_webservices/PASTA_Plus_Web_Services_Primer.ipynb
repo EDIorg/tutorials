{
 "cells": [
  {
   "cell_type": "markdown",
   "metadata": {},
   "source": [
    "# PASTA+ Web Services Primer - July 11 2017"
   ]
  },
  {
   "cell_type": "markdown",
   "metadata": {},
   "source": [
    "### Relevant Python packages"
   ]
  },
  {
   "cell_type": "code",
   "execution_count": 3,
   "metadata": {
    "collapsed": true
   },
   "outputs": [],
   "source": [
    "# System libraries\n",
    "import os\n",
    "\n",
    "# 3rd-party libraries\n",
    "import requests\n",
    "\n",
    "# Local imports\n",
    "from properties import PASSWORD"
   ]
  },
  {
   "cell_type": "markdown",
   "metadata": {},
   "source": [
    "### Define common attributes"
   ]
  },
  {
   "cell_type": "code",
   "execution_count": 4,
   "metadata": {
    "collapsed": true
   },
   "outputs": [],
   "source": [
    "base_url = 'https://pasta.lternet.edu/'\n",
    "user = 'uid=EDI,o=LTER,dc=ecoinformatics,dc=org'"
   ]
  },
  {
   "cell_type": "markdown",
   "metadata": {},
   "source": [
    "### List all scope values"
   ]
  },
  {
   "cell_type": "code",
   "execution_count": null,
   "metadata": {
    "collapsed": true
   },
   "outputs": [],
   "source": [
    "r = requests.get(base_url + 'package/eml')\n",
    "scopes = [_.strip() for _ in (r.text).split(os.linesep)]\n",
    "for scope in scopes:\n",
    "    print(scope)"
   ]
  },
  {
   "cell_type": "markdown",
   "metadata": {},
   "source": [
    "### List identifiers in scope \"edi\""
   ]
  },
  {
   "cell_type": "code",
   "execution_count": null,
   "metadata": {
    "collapsed": true
   },
   "outputs": [],
   "source": [
    "r = requests.get(base_url + 'package/eml/edi')\n",
    "identifiers = [_.strip() for _ in (r.text).split(os.linesep)]\n",
    "for identifier in identifiers:\n",
    "    print(identifier)"
   ]
  },
  {
   "cell_type": "markdown",
   "metadata": {},
   "source": [
    "### List revisions in \"edi/1\""
   ]
  },
  {
   "cell_type": "code",
   "execution_count": null,
   "metadata": {
    "collapsed": true
   },
   "outputs": [],
   "source": [
    "r = requests.get(base_url + 'package/eml/edi/1')\n",
    "revisions = [_.strip() for _ in (r.text).split(os.linesep)]\n",
    "for revision in revisions:\n",
    "    print(revision)"
   ]
  },
  {
   "cell_type": "markdown",
   "metadata": {},
   "source": [
    "### List resources for data package \"edi/1/1\""
   ]
  },
  {
   "cell_type": "code",
   "execution_count": null,
   "metadata": {
    "collapsed": true
   },
   "outputs": [],
   "source": [
    "r = requests.get(base_url + 'package/eml/edi/1/1')\n",
    "resources = [_.strip() for _ in (r.text).split(os.linesep)]\n",
    "for resource in resources:\n",
    "    print(resource)"
   ]
  },
  {
   "cell_type": "markdown",
   "metadata": {},
   "source": [
    "### Read \"edi/1/1\" metadata"
   ]
  },
  {
   "cell_type": "code",
   "execution_count": null,
   "metadata": {
    "collapsed": true
   },
   "outputs": [],
   "source": [
    "r = requests.get(base_url + 'package/metadata/eml/edi/1/1')\n",
    "edi_1_1_xml = r.text\n",
    "print(edi_1_1_xml)"
   ]
  },
  {
   "cell_type": "markdown",
   "metadata": {},
   "source": [
    "### Read \"edi/1/1/cba4645e845957d015008e7bccf4f902\" (E1 Plant Biomass 6 16.csv) data file"
   ]
  },
  {
   "cell_type": "code",
   "execution_count": null,
   "metadata": {
    "collapsed": true
   },
   "outputs": [],
   "source": [
    "r = requests.get(base_url + 'package/data/eml/edi/1/1/cba4645e845957d015008e7bccf4f902')\n",
    "edi_1_1_data = r.text\n",
    "print(edi_1_1_data)"
   ]
  },
  {
   "cell_type": "markdown",
   "metadata": {},
   "source": [
    "### Read first 10 audit records for data package \"edi/1/1\""
   ]
  },
  {
   "cell_type": "code",
   "execution_count": null,
   "metadata": {
    "collapsed": true
   },
   "outputs": [],
   "source": [
    "r = requests.get(base_url + 'audit/report?limit=10&resourceId=edi/1/1', auth=(user, PASSWORD))\n",
    "edi_1_1_audit = r.text\n",
    "print(edi_1_1_audit)"
   ]
  },
  {
   "cell_type": "code",
   "execution_count": null,
   "metadata": {
    "collapsed": true
   },
   "outputs": [],
   "source": []
  }
 ],
 "metadata": {
  "kernelspec": {
   "display_name": "Python 3",
   "language": "python",
   "name": "python3"
  },
  "language_info": {
   "codemirror_mode": {
    "name": "ipython",
    "version": 3
   },
   "file_extension": ".py",
   "mimetype": "text/x-python",
   "name": "python",
   "nbconvert_exporter": "python",
   "pygments_lexer": "ipython3",
   "version": "3.6.1"
  }
 },
 "nbformat": 4,
 "nbformat_minor": 2
}
